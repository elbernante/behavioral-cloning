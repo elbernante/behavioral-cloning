{
 "cells": [
  {
   "cell_type": "code",
   "execution_count": 1,
   "metadata": {
    "collapsed": true
   },
   "outputs": [],
   "source": [
    "import os, glob\n",
    "import pandas as pd\n",
    "from tqdm import tqdm"
   ]
  },
  {
   "cell_type": "code",
   "execution_count": 2,
   "metadata": {
    "collapsed": false
   },
   "outputs": [],
   "source": [
    "def process_df(df):\n",
    "    target = \"/Users/elbernante/Documents/Udacity/CarND/\"\n",
    "    for i in tqdm(range(df.shape[0]), desc=\"Fixing paths\"):\n",
    "        df.loc[i, 'center'] = df.iloc[i]['center'].replace(target, '')\n",
    "        df.loc[i, 'left'] = df.iloc[i]['left'].replace(target, '')\n",
    "        df.loc[i, 'right'] = df.iloc[i]['right'].replace(target, '')\n",
    "        \n",
    "def move_images(df, source, dist):\n",
    "    def move(f):\n",
    "        f = f.strip()\n",
    "        os.rename(source + '/' + f, dist + '/' + f)\n",
    "        \n",
    "    for i in tqdm(range(df.shape[0]), desc=\"Moving images\"):\n",
    "        move(df.iloc[i]['center'])\n",
    "        move(df.iloc[i]['left'])\n",
    "        move(df.iloc[i]['right'])\n",
    "    \n",
    "def process_dir(data_dir, dist_dir):\n",
    "    print(\"Processing: \", data_dir, flush=True)\n",
    "    if data_dir.endswith(\"data\"):\n",
    "        df = pd.read_csv(data_dir + \"/driving_log.csv\")\n",
    "    else:\n",
    "        df = pd.read_csv(data_dir + \"/driving_log.csv\", \n",
    "                         header=None,\n",
    "                         names=[\"center\", \"left\", \"right\", \"steering\", \"throttle\", \"brake\", \"speed\"])\n",
    "    process_df(df)\n",
    "    move_images(df, data_dir, dist_dir)\n",
    "    return df\n",
    "\n",
    "def start_process(recorded_dir, dist_dir):\n",
    "    folders = glob.glob(recorded_dir + \"/*\")\n",
    "    print(folders)\n",
    "    os.makedirs(dist_dir + \"/IMG\", exist_ok=True)\n",
    "    frames = [process_dir(f, dist_dir) for f in folders]\n",
    "    result = pd.concat(frames, axis=0, ignore_index=True)\n",
    "    result.to_csv(dist_dir + \"/driving_log.csv\", index=False)\n",
    "    print(\"Merging complete. Files saved to: \" + dist_dir)\n",
    "    return result"
   ]
  },
  {
   "cell_type": "code",
   "execution_count": 3,
   "metadata": {
    "collapsed": false
   },
   "outputs": [
    {
     "name": "stdout",
     "output_type": "stream",
     "text": [
      "['collected_data/recorded/data']\n",
      "Processing:  collected_data/recorded/data\n"
     ]
    },
    {
     "name": "stderr",
     "output_type": "stream",
     "text": [
      "Fixing paths: 100%|██████████| 8036/8036 [00:19<00:00, 406.60it/s]\n",
      "Moving images: 100%|██████████| 8036/8036 [00:51<00:00, 156.59it/s]\n"
     ]
    },
    {
     "name": "stdout",
     "output_type": "stream",
     "text": [
      "Merging complete. Files saved to: collected_data\n"
     ]
    }
   ],
   "source": [
    "result = start_process(\"collected_data/recorded\", \"collected_data\")"
   ]
  },
  {
   "cell_type": "code",
   "execution_count": 4,
   "metadata": {
    "collapsed": false
   },
   "outputs": [
    {
     "data": {
      "text/html": [
       "<div>\n",
       "<table border=\"1\" class=\"dataframe\">\n",
       "  <thead>\n",
       "    <tr style=\"text-align: right;\">\n",
       "      <th></th>\n",
       "      <th>steering</th>\n",
       "      <th>throttle</th>\n",
       "      <th>brake</th>\n",
       "      <th>speed</th>\n",
       "    </tr>\n",
       "  </thead>\n",
       "  <tbody>\n",
       "    <tr>\n",
       "      <th>count</th>\n",
       "      <td>8036.000000</td>\n",
       "      <td>8036.000000</td>\n",
       "      <td>8036.000000</td>\n",
       "      <td>8036.000000</td>\n",
       "    </tr>\n",
       "    <tr>\n",
       "      <th>mean</th>\n",
       "      <td>0.004070</td>\n",
       "      <td>0.869660</td>\n",
       "      <td>0.001970</td>\n",
       "      <td>28.169839</td>\n",
       "    </tr>\n",
       "    <tr>\n",
       "      <th>std</th>\n",
       "      <td>0.128840</td>\n",
       "      <td>0.301326</td>\n",
       "      <td>0.036565</td>\n",
       "      <td>6.149327</td>\n",
       "    </tr>\n",
       "    <tr>\n",
       "      <th>min</th>\n",
       "      <td>-0.942695</td>\n",
       "      <td>0.000000</td>\n",
       "      <td>0.000000</td>\n",
       "      <td>0.502490</td>\n",
       "    </tr>\n",
       "    <tr>\n",
       "      <th>25%</th>\n",
       "      <td>0.000000</td>\n",
       "      <td>0.985533</td>\n",
       "      <td>0.000000</td>\n",
       "      <td>30.183093</td>\n",
       "    </tr>\n",
       "    <tr>\n",
       "      <th>50%</th>\n",
       "      <td>0.000000</td>\n",
       "      <td>0.985533</td>\n",
       "      <td>0.000000</td>\n",
       "      <td>30.186400</td>\n",
       "    </tr>\n",
       "    <tr>\n",
       "      <th>75%</th>\n",
       "      <td>0.000000</td>\n",
       "      <td>0.985533</td>\n",
       "      <td>0.000000</td>\n",
       "      <td>30.186640</td>\n",
       "    </tr>\n",
       "    <tr>\n",
       "      <th>max</th>\n",
       "      <td>1.000000</td>\n",
       "      <td>0.985533</td>\n",
       "      <td>1.000000</td>\n",
       "      <td>30.709360</td>\n",
       "    </tr>\n",
       "  </tbody>\n",
       "</table>\n",
       "</div>"
      ],
      "text/plain": [
       "          steering     throttle        brake        speed\n",
       "count  8036.000000  8036.000000  8036.000000  8036.000000\n",
       "mean      0.004070     0.869660     0.001970    28.169839\n",
       "std       0.128840     0.301326     0.036565     6.149327\n",
       "min      -0.942695     0.000000     0.000000     0.502490\n",
       "25%       0.000000     0.985533     0.000000    30.183093\n",
       "50%       0.000000     0.985533     0.000000    30.186400\n",
       "75%       0.000000     0.985533     0.000000    30.186640\n",
       "max       1.000000     0.985533     1.000000    30.709360"
      ]
     },
     "execution_count": 4,
     "metadata": {},
     "output_type": "execute_result"
    }
   ],
   "source": [
    "result.describe()"
   ]
  },
  {
   "cell_type": "code",
   "execution_count": null,
   "metadata": {
    "collapsed": true
   },
   "outputs": [],
   "source": []
  }
 ],
 "metadata": {
  "anaconda-cloud": {},
  "kernelspec": {
   "display_name": "Python [conda env:carnd]",
   "language": "python",
   "name": "conda-env-carnd-py"
  },
  "language_info": {
   "codemirror_mode": {
    "name": "ipython",
    "version": 3
   },
   "file_extension": ".py",
   "mimetype": "text/x-python",
   "name": "python",
   "nbconvert_exporter": "python",
   "pygments_lexer": "ipython3",
   "version": "3.5.2"
  }
 },
 "nbformat": 4,
 "nbformat_minor": 1
}
